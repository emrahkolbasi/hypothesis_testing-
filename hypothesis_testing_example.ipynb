{
 "cells": [
  {
   "cell_type": "markdown",
   "metadata": {},
   "source": [
    "## IS509 Assignment 2\n",
    "\n",
    "### Due:December 5,Sunday-23.59   \n",
    "\n",
    "\n",
    "### Submission and Grading Policy\n",
    "\n",
    "- Submit your assignments to the corresponding assignment link in https://odtuclass.metu.edu.tr.\n",
    "- Solutions should be submitted in a single **ipynb** file named: metu-username_HW_2.ipynb (e.g., “e123456_HW_2.ipynb”).\n",
    "- Late submissions will be accepted by December 7, 2021 at 23:59 with a 5% per day penalty.\n",
    "- Do not change variable names in the code blocks and the texts in the markdowns.\n",
    "- **It is an individual assignment. You have to adhere to academic integrity principles.**\n",
    "- You are supposed to be able to interpret your findings. Hence, you shouldn't just find a number or result and just leave it. You need to comment on your findings by giving as much as **necessary** details.  \n",
    "  \n",
    "In this assignment, you will work on statistical hypothesis testing and try different statistical tests and comment on your findings.\n",
    "\n",
    "Note: Please see https://scikit-posthocs.readthedocs.io/en/latest/posthocs_api/ "
   ]
  },
  {
   "cell_type": "code",
   "execution_count": 1,
   "metadata": {},
   "outputs": [
    {
     "data": {
      "text/html": [
       "<style>\n",
       "table {float:left}\n",
       "</style>\n"
      ],
      "text/plain": [
       "<IPython.core.display.HTML object>"
      ]
     },
     "metadata": {},
     "output_type": "display_data"
    }
   ],
   "source": [
    "%%html\n",
    "<style>\n",
    "table {float:left}\n",
    "</style>"
   ]
  },
  {
   "cell_type": "markdown",
   "metadata": {},
   "source": [
    "**Import the libraries you need.**  "
   ]
  },
  {
   "cell_type": "markdown",
   "metadata": {},
   "source": [
    "## Q1.   \n",
    "A university professor was giving online lectures instead of face-to-face classes due to Covid-19. Later, he uploaded recorded lectures to the cloud for students who follow the course asynchronously (the students who did not attend the lesson but later watch the records). However, he believes that the students who attend class at the class time and participate in the process are more successful. Therefore, he recorded the average grades of the students at the end of the semester. The data is below.  \n",
    "\n",
    "synchronous = [94. , 84.9, 82.6, 69.5, 80.1, 79.6, 81.4, 77.8, 81.7, 78.8, 73.2, 87.9, 87.9, 93.5, 82.3, 79.3, 78.3, 71.6, 88.6, 74.6, 74.1, 80.6]      \n",
    "asynchronous = [77.1, 71.7, 91. , 72.2, 74.8, 85.1, 67.6, 69.9, 75.3, 71.7, 65.7, 72.6, 71.5, 78.2]\n",
    "\n",
    "**Conduct the hypothesis testing to check whether the professor's belief is statistically significant by using a 0.05 significance level to evaluate the null and alternative hypotheses. Before doing hypothesis testing, check the related assumptions. Comment on the results.**\n",
    "\n",
    "----------------"
   ]
  },
  {
   "cell_type": "code",
   "execution_count": 3,
   "metadata": {},
   "outputs": [],
   "source": [
    "import pandas as pd\n",
    "import numpy as np\n",
    "import scipy.stats as stats\n",
    "import matplotlib.pyplot as plt\n",
    "import statsmodels.api as sm\n",
    "import statistics\n",
    "import matplotlib.pyplot as plt\n",
    "import seaborn as sns\n",
    "%matplotlib inline"
   ]
  },
  {
   "cell_type": "code",
   "execution_count": 38,
   "metadata": {},
   "outputs": [
    {
     "name": "stdout",
     "output_type": "stream",
     "text": [
      "For synchronous p value:0.655590\n",
      "For asynchronous p value:0.080302\n"
     ]
    },
    {
     "data": {
      "text/plain": [
       "Ttest_indResult(statistic=2.8414882345796917, pvalue=0.0037679921704130647)"
      ]
     },
     "execution_count": 38,
     "metadata": {},
     "output_type": "execute_result"
    }
   ],
   "source": [
    "# For testing normality, Shapiro-Wilk’s W test and Kolmogorov-Smirnov tests can be used. Shapiro-Wilk’s W test is generally \n",
    "# preferred for smaller samples.\n",
    "\n",
    "# For synchronous sample; assume 𝐻0 : The data is normally distributed and 𝐻1 : The data is not normally distributed\n",
    "# For asynchronous sample; assume 𝐻0 : The data is normally distributed and 𝐻1 : The data is not normally distributed\n",
    "\n",
    "synchronous = np.array([94.,84.9,82.6,69.5,80.1,79.6,81.4,77.8,81.7,78.8,73.2,87.9,87.9,93.5,82.3,79.3,78.3,71.6,88.6,74.6,74.1,80.6])\n",
    "asynchronous = np.array([77.1,71.7,91. ,72.2,74.8,85.1,67.6,69.9,75.3,71.7,65.7,72.6,71.5,78.2])\n",
    "\n",
    "\n",
    "test_stat_shapiro_synchronous , p_value_shapiro_synchronous  = stats.shapiro(synchronous)\n",
    "test_stat_shapiro_asynchronous, p_value_shapiro_asynchronous = stats.shapiro(asynchronous)\n",
    "\n",
    "\n",
    "print(\"For synchronous p value:%.6f\" % p_value_shapiro_synchronous)\n",
    "print(\"For asynchronous p value:%.6f\" % p_value_shapiro_asynchronous)\n",
    "\n",
    "\n",
    "\n",
    "# Since both p-values are greater 0.05 significance level, both samples are normally distributed.\n",
    "\n",
    "# It should be noted the samples are different; so they are unpaired sample.\n",
    "\n",
    "\n",
    "# It is written that mean of synchronous group is larger than mean of asynchronous group. It is one-tailed test.\n",
    "# So; H0 : M(synchronous) = M(asynchronous)\n",
    "#     HA :  M(synchronous) > M(asynchronous)\n",
    "\n",
    "stats.ttest_ind(synchronous, asynchronous, alternative='greater')\n",
    "\n",
    "\n",
    "# As can be seen below;  since p value is less than the 0.05 we should reject the null hypothesis.\n"
   ]
  },
  {
   "cell_type": "markdown",
   "metadata": {},
   "source": [
    "## Q2.\n",
    "\n",
    "Ten students were diagnosed with diabetes by the METU Health Center in the previous semester. Healthcare personnel told these patients about the dangers of high glucose levels and prescribed a diet program. The patients came for control one month later, and their blood glucose level was reexamined. Test whether there is a difference in the glucose levels of the patients.\n",
    "\n",
    "**According to this information, conduct the hypothesis testing to check whether there is a decrease in the cholesterol levels of the patients after the diet by using a 0.05 significance level. Before doing hypothesis testing, check the related assumptions. Comment on the results.**\n",
    "\n",
    "test_results_before_diet= [225.83, 229.44, 208.64, 246.4 , 212.07, 221.58, 235.03, 217.55, 219.42, 220.91]   \n",
    "test_results_after_diet= [196.46, 188.2 , 198.42, 209.8 , 186.96, 186.96, 210.53, 199.98, 183.9 , 197.05]\n",
    "\n",
    "\n",
    "------------"
   ]
  },
  {
   "cell_type": "code",
   "execution_count": 8,
   "metadata": {},
   "outputs": [
    {
     "name": "stdout",
     "output_type": "stream",
     "text": [
      "For test_results_before_diet p value:0.725627\n",
      "For test_results_after_diet p value:0.264996\n"
     ]
    },
    {
     "data": {
      "text/plain": [
       "Ttest_relResult(statistic=-65.88982550667356, pvalue=1.0784407956227255e-13)"
      ]
     },
     "execution_count": 8,
     "metadata": {},
     "output_type": "execute_result"
    }
   ],
   "source": [
    "# For testing normality, Shapiro-Wilk’s W test and Kolmogorov-Smirnov tests can be used. Shapiro-Wilk’s W test is generally \n",
    "# preferred for smaller samples.\n",
    "\n",
    "# For before_diet sample; assume 𝐻0 : The data is normally distributed and 𝐻1 : The data is not normally distributed\n",
    "# For after_diet sample; assume 𝐻0 : The data is normally distributed and 𝐻1 : The data is not normally distributed\n",
    "\n",
    "test_results_before_diet= np.array([225.83, 229.44, 208.64, 246.4 , 212.07, 221.58, 235.03, 217.55, 219.42, 220.91])\n",
    "test_results_after_diet= np.array([196.46, 188.2 , 198.42, 209.8 , 186.96, 186.96, 210.53, 199.98, 183.9 , 197.05])\n",
    "all_results = test_results_before_diet + test_results_after_diet\n",
    "\n",
    "test_stat_shapiro_test_results_before_diet , p_value_shapiro_test_results_before_diet  = stats.shapiro(test_results_before_diet)\n",
    "test_stat_shapiro_test_results_after_diet, p_value_shapiro_test_results_after_diet = stats.shapiro(test_results_after_diet)\n",
    "\n",
    "\n",
    "print(\"For test_results_before_diet p value:%.6f\" % p_value_shapiro_test_results_before_diet)\n",
    "print(\"For test_results_after_diet p value:%.6f\" % p_value_shapiro_test_results_after_diet)\n",
    "\n",
    "\n",
    "# Since both p-values are greater 0.05 significance level, both samples are normally distributed.\n",
    "\n",
    "# It should be noted the samples are same; so they are paired sample.\n",
    "\n",
    "\n",
    "# It is written to check whether there is a decrease in the cholesterol levels of the patients after the diet . It is one-tailed\n",
    "# test.\n",
    "\n",
    "# So; H0 : M(before_diet) = M(after_diet)\n",
    "#     HA :  M(after_diet) < M(before_diet)\n",
    "\n",
    "\n",
    "stats.ttest_rel(test_results_before_diet, all_results, alternative = \"less\")\n",
    "\n",
    "\n",
    "# Since the p value found is less than 0.05 ; reject the null hypothesis. "
   ]
  },
  {
   "cell_type": "markdown",
   "metadata": {},
   "source": [
    "## Q3.\n",
    "\n",
    "An analyst of a financial investment company is curious about the relationship between gender and risk appetite. A random sample was taken of 660 customers from the database. The customers in the sample were classified according to their gender and their risk appetite. The result is given in the following table.\n"
   ]
  },
  {
   "cell_type": "markdown",
   "metadata": {},
   "source": [
    "| **Gender/Risk Appetite** | Very Low | Low | Medium | High | Very High | Total |\n",
    "|:--------------------:|:--------:|:---:|:------:|:----:|:---------:|:-----:|\n",
    "|        **Female**        |    53    |  23 |   30   |  36  |     88    |  230  |\n",
    "|         **Male**         |    71    |  48 |   51   |  57  |    203    |  430  |\n",
    "|         **Total**        |    124   |  71 |   81   |  93  |    291    |  660  |"
   ]
  },
  {
   "cell_type": "markdown",
   "metadata": {},
   "source": [
    "Test the hypothesis that the risk appetite of the customers in this company is independent of their gender. Use α = 0.01.    \n",
    "\n",
    "-------"
   ]
  },
  {
   "cell_type": "code",
   "execution_count": 15,
   "metadata": {},
   "outputs": [
    {
     "name": "stdout",
     "output_type": "stream",
     "text": [
      "female:\n",
      "1    0.230435\n",
      "2    0.100000\n",
      "3    0.130435\n",
      "4    0.156522\n",
      "5    0.382609\n",
      "Name: female, dtype: float64\n",
      "male:\n",
      "1    0.165116\n",
      "2    0.111628\n",
      "3    0.118605\n",
      "4    0.132558\n",
      "5    0.472093\n",
      "Name: male, dtype: float64\n",
      "overall:\n",
      "1    0.187879\n",
      "2    0.107576\n",
      "3    0.122727\n",
      "4    0.140909\n",
      "5    0.440909\n",
      "dtype: float64\n",
      "observed:\n",
      "   female  male\n",
      "1      53    71\n",
      "2      23    48\n",
      "3      30    51\n",
      "4      36    57\n",
      "5      88   203\n",
      "expected:\n",
      "   female   male\n",
      "1    43.0   81.0\n",
      "2    25.0   46.0\n",
      "3    28.0   53.0\n",
      "4    32.0   61.0\n",
      "5   101.0  190.0\n",
      "manually computed statistic: 7.350470752203298, p-value: 0.11848654527941649\n",
      "Test result: statistic=7.350470752203299, p-value=0.11848654527941645\n"
     ]
    }
   ],
   "source": [
    "# For unpaired samples ; if the frequency of success in two treatment groups is to be compared and n>60 , the chi-square test\n",
    "# can be used. \n",
    "\n",
    "# Group comparison of two unpaired categorical outcomes.\n",
    "# Let very_low =1 ; low =2 ; medium =3 ; high =4 ; very high =5\n",
    "\n",
    "# Ho: Gender and risk appetite are independent.\n",
    "\n",
    "# Ha: Gender and risk appetite are not independent.\n",
    "\n",
    "\n",
    "observed = pd.DataFrame({'female': [53, 23, 30, 36, 88],\n",
    "                       'male': [71,48,51,57,203]},\n",
    "                   index=[1,2,3,4,5])\n",
    "\n",
    "print('female:')\n",
    "print(observed.female/observed.female.sum())\n",
    "print('male:')\n",
    "print(observed.male/observed.male.sum())\n",
    "\n",
    "party = observed.male+observed.female\n",
    "overall = party/party.sum()\n",
    "\n",
    "print('overall:')\n",
    "print(overall)\n",
    "\n",
    "##np.rint >Round elements of the array to the nearest integer.\n",
    "\n",
    "\n",
    "expected = pd.DataFrame({'female': np.rint(overall*observed.female.sum()), \n",
    "                         'male': np.rint(overall*observed.male.sum())},\n",
    "                   index=[1,2,3,4,5])\n",
    "\n",
    "print('observed:')\n",
    "print(observed)\n",
    "print('expected:')\n",
    "print(expected)\n",
    "\n",
    "\n",
    "# manually compute statistic\n",
    "\n",
    "s = (observed-expected)**2/expected\n",
    "st = s.sum().sum() \n",
    "\n",
    "# manually compute p-value\n",
    "\n",
    "pvalue = (1-stats.chi2.cdf(st, df=4))\n",
    "\n",
    "print(f'manually computed statistic: {s.sum().sum()}, p-value: {pvalue}')\n",
    "\n",
    "st, pvalue = stats.chisquare(f_obs=observed, f_exp=expected, axis=None, ddof=5) ##Calculate a one-way chi-square test.\n",
    "\n",
    "### The chi-square test tests the null hypothesis that the categorical data has the given frequencies.\n",
    "\n",
    "print(f'Test result: statistic={st}, p-value={pvalue}')\n",
    "\n",
    "\n",
    "# Since the P-value (0.11) is greater than the significance level (0.01), we cannot reject the null hypothesis"
   ]
  },
  {
   "cell_type": "markdown",
   "metadata": {},
   "source": [
    "## Q4.\n",
    "\n",
    "A researcher was curious about whether there is a difference between in terms of performance her own developed methodology C and baseline methods A and B.  Therefore, she decided to design different experiments and recorded the achieved accuracy by each method.\n",
    "\n",
    "The below table shows the achieved accuracy on test sets by each method.  Please note that same train and test sets were used for each method\n"
   ]
  },
  {
   "cell_type": "markdown",
   "metadata": {},
   "source": [
    "| Experiment |   A  |   B  |   C  |\n",
    "|:----------:|:----:|:----:|:----:|\n",
    "|     E1     | 89.8 | 90.0 | 91.5 |\n",
    "|     E2     | 89.9 | 90.1 | 90.7 |\n",
    "|     E3     | 88.6 | 88.8 | 90.3 |\n",
    "|     E4     | 88.7 | 88.9 | 90.4 |\n",
    "|     E5     | 89.6 | 89.9 | 90.2 |\n",
    "|     E6     | 89.7 | 90.0 | 90.3 |\n",
    "|     E7     | 89.2 | 89.0 | 90.2 |\n",
    "|     E8     | 89.3 | 89.2 | 90.3 | "
   ]
  },
  {
   "cell_type": "markdown",
   "metadata": {},
   "source": [
    "**According to this information, conduct the hypothesis testing to check whether there is a difference between the performance of the methods by using a 0.05 significance level. If there is a significant difference, perform further analysis to find which one caused the difference. Before doing hypothesis testing, check the related assumptions. Comment on the results.** "
   ]
  },
  {
   "cell_type": "code",
   "execution_count": 27,
   "metadata": {},
   "outputs": [
    {
     "name": "stdout",
     "output_type": "stream",
     "text": [
      "For group_A p value:0.307592\n",
      "For group_B p value:0.051522\n",
      "For group_C p value:0.001583\n",
      "FriedmanchisquareResult(statistic=13.0, pvalue=0.0015034391929775717)\n"
     ]
    },
    {
     "data": {
      "text/html": [
       "<div>\n",
       "<style scoped>\n",
       "    .dataframe tbody tr th:only-of-type {\n",
       "        vertical-align: middle;\n",
       "    }\n",
       "\n",
       "    .dataframe tbody tr th {\n",
       "        vertical-align: top;\n",
       "    }\n",
       "\n",
       "    .dataframe thead th {\n",
       "        text-align: right;\n",
       "    }\n",
       "</style>\n",
       "<table border=\"1\" class=\"dataframe\">\n",
       "  <thead>\n",
       "    <tr style=\"text-align: right;\">\n",
       "      <th></th>\n",
       "      <th>0</th>\n",
       "      <th>1</th>\n",
       "      <th>2</th>\n",
       "    </tr>\n",
       "  </thead>\n",
       "  <tbody>\n",
       "    <tr>\n",
       "      <th>0</th>\n",
       "      <td>1.000000</td>\n",
       "      <td>0.571463</td>\n",
       "      <td>0.001353</td>\n",
       "    </tr>\n",
       "    <tr>\n",
       "      <th>1</th>\n",
       "      <td>0.571463</td>\n",
       "      <td>1.000000</td>\n",
       "      <td>0.033252</td>\n",
       "    </tr>\n",
       "    <tr>\n",
       "      <th>2</th>\n",
       "      <td>0.001353</td>\n",
       "      <td>0.033252</td>\n",
       "      <td>1.000000</td>\n",
       "    </tr>\n",
       "  </tbody>\n",
       "</table>\n",
       "</div>"
      ],
      "text/plain": [
       "          0         1         2\n",
       "0  1.000000  0.571463  0.001353\n",
       "1  0.571463  1.000000  0.033252\n",
       "2  0.001353  0.033252  1.000000"
      ]
     },
     "execution_count": 27,
     "metadata": {},
     "output_type": "execute_result"
    }
   ],
   "source": [
    "# For testing normality, Shapiro-Wilk’s W test and Kolmogorov-Smirnov tests can be used. Shapiro-Wilk’s W test is generally \n",
    "# preferred for smaller samples.\n",
    "\n",
    "# For group A; assume 𝐻0 : The data is normally distributed and 𝐻1 : The data is not normally distributed\n",
    "# For group B; assume 𝐻0 : The data is normally distributed and 𝐻1 : The data is not normally distributed\n",
    "# For group C; assume 𝐻0 : The data is normally distributed and 𝐻1 : The data is not normally distributed\n",
    "\n",
    "\n",
    "group_A = [89.8 , 89.9 , 88.6 , 88.7 , 89.6 , 89.7 , 89.2 , 89.3]\n",
    "group_B = [90.0 , 90.1 , 88.8 , 88.9 , 89.9 , 90.0 , 89.0 , 89.2]\n",
    "group_C = [91.5 , 90.7 , 90.3 , 90.4 , 90.2 , 90.3 , 90.2 , 90.3]\n",
    "\n",
    "\n",
    "test_stat_shapiro_group_A , p_value_shapiro_group_A  = stats.shapiro(group_A)\n",
    "test_stat_shapiro_group_B , p_value_shapiro_group_B  = stats.shapiro(group_B)\n",
    "test_stat_shapiro_group_C , p_value_shapiro_group_C  = stats.shapiro(group_C)\n",
    "\n",
    "print(\"For group_A p value:%.6f\" % p_value_shapiro_group_A)\n",
    "print(\"For group_B p value:%.6f\" % p_value_shapiro_group_B)\n",
    "print(\"For group_C p value:%.6f\" % p_value_shapiro_group_C)\n",
    "\n",
    "\n",
    "# Since  p-values of group-C is less than 0.05 significance level and the sample have continuous data, non-parametric tests \n",
    "# should be used (no normality for group C). Since we have 3 paired groups, Freidman test can be used. \n",
    "\n",
    "\n",
    "# The null hypothesis (H0): The mean for each group is equal.\n",
    "# The alternative hypothesis: (Ha): At least one group mean is different from the rest.\n",
    "\n",
    "print(stats.friedmanchisquare(group_A, group_B, group_C))\n",
    "\n",
    "\n",
    "# In this example, the test statistic is 13.0 and the corresponding p-value is 0.0015.Since this p-value is less than 0.05,\n",
    "# we can reject the null hypothesis. \n",
    "\n",
    "# Next, we can perform the Nemenyi post-hoc test to determine exactly which groups have different means.\n",
    "\n",
    "import scikit_posthocs as sp\n",
    "\n",
    "# combine three groups into one array\n",
    "\n",
    "\n",
    "data = np.array([group_A, group_B, group_C])\n",
    "\n",
    "# perform Nemenyi post-hoc test\n",
    "\n",
    "\n",
    "sp.posthoc_nemenyi_friedman(data.T)\n",
    "\n",
    "\n",
    "\n",
    "# The Nemeyi post-hoc test returns the p-values for each pairwise comparison of means. From the output we can see the following \n",
    "# p-values:\n",
    "\n",
    "# P-value of group 0 vs. group 1: 0.5714\n",
    "# P-value of group 0 vs. group 2: 0.0013\n",
    "# P-value of group 1 vs. group 2: 0.0332\n",
    "\n",
    "# At α = .05, the only two groups that have statistically significantly similar means are group_A and group_B."
   ]
  },
  {
   "cell_type": "markdown",
   "metadata": {},
   "source": [
    "---------------------"
   ]
  }
 ],
 "metadata": {
  "kernelspec": {
   "display_name": "Python 3",
   "language": "python",
   "name": "python3"
  },
  "language_info": {
   "codemirror_mode": {
    "name": "ipython",
    "version": 3
   },
   "file_extension": ".py",
   "mimetype": "text/x-python",
   "name": "python",
   "nbconvert_exporter": "python",
   "pygments_lexer": "ipython3",
   "version": "3.8.8"
  }
 },
 "nbformat": 4,
 "nbformat_minor": 4
}
